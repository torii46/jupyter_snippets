{
 "cells": [
  {
   "cell_type": "code",
   "execution_count": 1,
   "metadata": {
    "collapsed": true
   },
   "outputs": [],
   "source": [
    "%matplotlib inline\n",
    "import numpy as np\n",
    "import matplotlib as mpl\n",
    "import matplotlib.pyplot as plt\n",
    "import pandas as pd\n",
    "from ipywidgets import interact, Output, HBox\n",
    "import ipywidgets as widgets"
   ]
  },
  {
   "cell_type": "code",
   "execution_count": 2,
   "metadata": {},
   "outputs": [
    {
     "data": {
      "application/vnd.jupyter.widget-view+json": {
       "model_id": "46caf8e1ec7d4cc2a31ccfd5c36746de"
      }
     },
     "metadata": {},
     "output_type": "display_data"
    }
   ],
   "source": [
    "outputText = widgets.Text()\n",
    "outputText"
   ]
  },
  {
   "cell_type": "code",
   "execution_count": 3,
   "metadata": {},
   "outputs": [
    {
     "data": {
      "application/vnd.jupyter.widget-view+json": {
       "model_id": "a631172753f1432882fa0bd30484baa6"
      }
     },
     "metadata": {},
     "output_type": "display_data"
    }
   ],
   "source": [
    "inputText = widgets.Text()\n",
    "\n",
    "def makeUpperCase(sender):\n",
    "    outputText.value = inputText.value.upper()\n",
    "    \n",
    "inputText.on_submit(makeUpperCase)\n",
    "inputText"
   ]
  },
  {
   "cell_type": "code",
   "execution_count": 4,
   "metadata": {
    "collapsed": true
   },
   "outputs": [],
   "source": [
    "def plot_histogram(num):\n",
    "    x = np.random.randn(num)\n",
    "    num_bins = 50\n",
    "    n, bins, patches = plt.hist(x, num_bins, normed=1, facecolor=\"green\", alpha=0.5)\n",
    "    plt.xlabel(r\"Description of $x$ coordinate (units)\")\n",
    "    plt.ylabel(r\"Description of $y$ coordinate (units)\")\n",
    "    plt.title(r\"Histogram title here (remove for papers)\")\n",
    "    plt.show();\n",
    "    \n",
    "bar = Output()\n",
    "with bar:\n",
    "    @interact(num =(100, 5000, 100))\n",
    "    def f(num):\n",
    "        plot_histogram(num)"
   ]
  },
  {
   "cell_type": "code",
   "execution_count": 5,
   "metadata": {},
   "outputs": [
    {
     "data": {
      "application/vnd.jupyter.widget-view+json": {
       "model_id": "71a069c83ac84a32bffd33adaca9a6c8"
      }
     },
     "metadata": {},
     "output_type": "display_data"
    }
   ],
   "source": [
    "bar = Output()\n",
    "\n",
    "with bar:\n",
    "    @interact(a=(0, 10, 0.1), x=(0, 10, 0.1))\n",
    "    def f(a, x):\n",
    "        bp_x = np.linspace(0, 2*np.pi, num=100, endpoint=True)\n",
    "        bp_y = np.sin(bp_x + a)\n",
    "        plt.plot(bp_x, bp_y, linewidth=3, linestyle=\"-\",\n",
    "         color=\"blue\", label=r\"Legend label $\\sin(x)$\")\n",
    "        pt_x = np.array([x])\n",
    "        pt_y = np.sin(pt_x + a)\n",
    "        plt.plot(pt_x, pt_y, \"ro\")\n",
    "        #plt.plot(pt_x, pt_y, linewidth=3, linestyle=\"dashdot\",\n",
    "        # color=\"red\", label=r\"Legend label $\\sin(x)$\")\n",
    "        plt.xlabel(r\"Description of $x$ coordinate (units)\")\n",
    "        plt.ylabel(r\"Description of $y$ coordinate (units)\")\n",
    "        plt.xlim(0, 2*np.pi)\n",
    "        plt.ylim(-1.1, 1.1)\n",
    "        plt.legend(loc=\"lower left\")\n",
    "        plt.title(r\"Title here (remove for papers)\")\n",
    "        plt.show()\n",
    "HBox((bar,))"
   ]
  },
  {
   "cell_type": "code",
   "execution_count": 6,
   "metadata": {},
   "outputs": [
    {
     "data": {
      "application/vnd.jupyter.widget-view+json": {
       "model_id": "ba5e9577482f4731a4987c4ec2e2c6e6"
      }
     },
     "metadata": {},
     "output_type": "display_data"
    },
    {
     "data": {
      "image/png": "[encoded data removed]",
      "text/plain": [
       "<matplotlib.figure.Figure at 0x1137a3e10>"
      ]
     },
     "metadata": {},
     "output_type": "display_data"
    }
   ],
   "source": [
    "@interact(sin=True, cos=True, x_range=(2,10,1))\n",
    "def f(x_range, sin=True, cos=False):\n",
    "    x = np.linspace(x_range*-1, x_range, 100)\n",
    "    if sin: plt.scatter(x, np.sin(x), color=\"red\")\n",
    "    if cos: plt.scatter(x, np.cos(x), color=\"blue\")"
   ]
  }
 ],
 "metadata": {
  "kernelspec": {
   "display_name": "Python 2",
   "language": "python",
   "name": "python2"
  },
  "language_info": {
   "codemirror_mode": {
    "name": "ipython",
    "version": 2
   },
   "file_extension": ".py",
   "mimetype": "text/x-python",
   "name": "python",
   "nbconvert_exporter": "python",
   "pygments_lexer": "ipython2",
   "version": "2.7.13"
  },
  "toc": {
   "colors": {
    "hover_highlight": "#DAA520",
    "running_highlight": "#FF0000",
    "selected_highlight": "#FFD700"
   },
   "moveMenuLeft": true,
   "nav_menu": {
    "height": "12px",
    "width": "252px"
   },
   "navigate_menu": true,
   "number_sections": true,
   "sideBar": true,
   "threshold": 4,
   "toc_cell": false,
   "toc_section_display": "block",
   "toc_window_display": false,
   "widenNotebook": false
  }
 },
 "nbformat": 4,
 "nbformat_minor": 2
}
